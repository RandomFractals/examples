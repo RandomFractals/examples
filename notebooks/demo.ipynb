{
 "cells": [
  {
   "cell_type": "code",
   "execution_count": 1,
   "id": "7d90d410",
   "metadata": {},
   "outputs": [],
   "source": [
    "from unfolded.map_sdk import UnfoldedMapSDK, models"
   ]
  },
  {
   "cell_type": "code",
   "execution_count": 2,
   "id": "cd675e57",
   "metadata": {},
   "outputs": [
    {
     "data": {
      "application/vnd.jupyter.widget-view+json": {
       "model_id": "f298cfeafa88461ea5f3a68d2634ec30",
       "version_major": 2,
       "version_minor": 0
      },
      "text/plain": [
       "UnfoldedMapSDK(mapUUID='ae4f5345-8507-49ec-85f6-a1f8c7bc2219')"
      ]
     },
     "metadata": {},
     "output_type": "display_data"
    }
   ],
   "source": [
    "my_map = UnfoldedMapSDK(mapUUID='ae4f5345-8507-49ec-85f6-a1f8c7bc2219')\n",
    "my_map"
   ]
  },
  {
   "cell_type": "code",
   "execution_count": 3,
   "id": "690a9948",
   "metadata": {},
   "outputs": [],
   "source": [
    "layers_future = my_map.get_layers()"
   ]
  },
  {
   "cell_type": "code",
   "execution_count": 4,
   "id": "b42c50da",
   "metadata": {},
   "outputs": [],
   "source": [
    "layer = layers_future.result()[0]"
   ]
  },
  {
   "cell_type": "code",
   "execution_count": 5,
   "id": "6167fb86",
   "metadata": {},
   "outputs": [
    {
     "data": {
      "text/plain": [
       "<Future pending>"
      ]
     },
     "execution_count": 5,
     "metadata": {},
     "output_type": "execute_result"
    }
   ],
   "source": [
    "# Hide layer\n",
    "my_map.set_layer_visibility(layer_id=layer.id, is_visible=False)"
   ]
  },
  {
   "cell_type": "code",
   "execution_count": 6,
   "id": "9d653f05",
   "metadata": {},
   "outputs": [
    {
     "data": {
      "text/plain": [
       "<Future pending>"
      ]
     },
     "execution_count": 6,
     "metadata": {},
     "output_type": "execute_result"
    }
   ],
   "source": [
    "# Show layer again\n",
    "my_map.set_layer_visibility(layer_id=layer.id, is_visible=True)"
   ]
  },
  {
   "cell_type": "code",
   "execution_count": 12,
   "id": "7452fcb3",
   "metadata": {},
   "outputs": [
    {
     "data": {
      "text/plain": [
       "<Future pending>"
      ]
     },
     "execution_count": 12,
     "metadata": {},
     "output_type": "execute_result"
    }
   ],
   "source": [
    "# Set view state\n",
    "view_state = models.ViewState(longitude=1, latitude=51, zoom=4)\n",
    "my_map.set_view_state(view_state)"
   ]
  },
  {
   "cell_type": "code",
   "execution_count": 13,
   "id": "2c3a7fa0",
   "metadata": {},
   "outputs": [],
   "source": [
    "# Set map theme\n",
    "my_map.set_theme('light')"
   ]
  },
  {
   "cell_type": "code",
   "execution_count": 14,
   "id": "2ab64f51",
   "metadata": {},
   "outputs": [],
   "source": [
    "my_map.set_theme('dark')"
   ]
  },
  {
   "cell_type": "code",
   "execution_count": null,
   "id": "4d87f36a",
   "metadata": {},
   "outputs": [],
   "source": []
  }
 ],
 "metadata": {
  "kernelspec": {
   "display_name": "Python 3",
   "language": "python",
   "name": "python3"
  },
  "language_info": {
   "codemirror_mode": {
    "name": "ipython",
    "version": 3
   },
   "file_extension": ".py",
   "mimetype": "text/x-python",
   "name": "python",
   "nbconvert_exporter": "python",
   "pygments_lexer": "ipython3",
   "version": "3.8.3"
  }
 },
 "nbformat": 4,
 "nbformat_minor": 5
}
