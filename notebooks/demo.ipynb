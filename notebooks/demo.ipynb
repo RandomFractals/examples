{
 "cells": [
  {
   "cell_type": "markdown",
   "id": "b8486f9b",
   "metadata": {},
   "source": [
    "## Unfolded Map SDK Example\n",
    "\n",
    "This notebook is an example of using the beta `unfolded.map-sdk` module in Jupyter."
   ]
  },
  {
   "cell_type": "code",
   "execution_count": 1,
   "id": "16c60375",
   "metadata": {},
   "outputs": [],
   "source": [
    "from unfolded.map_sdk import UnfoldedMap, models"
   ]
  },
  {
   "cell_type": "markdown",
   "id": "579328e3",
   "metadata": {},
   "source": [
    "First we create a map using a UUID of a published map:"
   ]
  },
  {
   "cell_type": "code",
   "execution_count": 2,
   "id": "872fd470",
   "metadata": {},
   "outputs": [
    {
     "data": {
      "application/vnd.jupyter.widget-view+json": {
       "model_id": "b68aa8c78f7e42cd9f2ca38b6c895e96",
       "version_major": 2,
       "version_minor": 0
      },
      "text/plain": [
       "UnfoldedMap(mapUUID='ae4f5345-8507-49ec-85f6-a1f8c7bc2219')"
      ]
     },
     "metadata": {},
     "output_type": "display_data"
    }
   ],
   "source": [
    "my_map = UnfoldedMap(mapUUID='ae4f5345-8507-49ec-85f6-a1f8c7bc2219')\n",
    "my_map"
   ]
  },
  {
   "cell_type": "markdown",
   "id": "dece6276",
   "metadata": {},
   "source": [
    "After waiting for the map to finish loading, we can issue commands to the map:"
   ]
  },
  {
   "cell_type": "code",
   "execution_count": 3,
   "id": "ef1e0dd1",
   "metadata": {},
   "outputs": [],
   "source": [
    "layers_future = my_map.get_layers()"
   ]
  },
  {
   "cell_type": "markdown",
   "id": "337c9b42",
   "metadata": {},
   "source": [
    "With the current beta implementation, we need to separate these two cells, and need to call `.result` after the `get_layers` function has finished."
   ]
  },
  {
   "cell_type": "code",
   "execution_count": 4,
   "id": "156c4c24",
   "metadata": {},
   "outputs": [],
   "source": [
    "layers = layers_future.result()\n",
    "layer = layers[0]"
   ]
  },
  {
   "cell_type": "markdown",
   "id": "7ed5b533",
   "metadata": {},
   "source": [
    "`layers` is now a list of layers that exist on the map shown above."
   ]
  },
  {
   "cell_type": "code",
   "execution_count": 5,
   "id": "aa11487d",
   "metadata": {},
   "outputs": [
    {
     "data": {
      "text/plain": [
       "[Layer(label='Point', id='25smxo6', is_visible=True)]"
      ]
     },
     "execution_count": 5,
     "metadata": {},
     "output_type": "execute_result"
    }
   ],
   "source": [
    "layers"
   ]
  },
  {
   "cell_type": "markdown",
   "id": "0e7b7257",
   "metadata": {},
   "source": [
    "We can also turn the visibility of layers on and off:"
   ]
  },
  {
   "cell_type": "code",
   "execution_count": 6,
   "id": "2d284368",
   "metadata": {},
   "outputs": [
    {
     "data": {
      "text/plain": [
       "<Future pending>"
      ]
     },
     "execution_count": 6,
     "metadata": {},
     "output_type": "execute_result"
    }
   ],
   "source": [
    "# Hide layer\n",
    "my_map.set_layer_visibility(layer_id=layer.id, is_visible=False)"
   ]
  },
  {
   "cell_type": "code",
   "execution_count": 7,
   "id": "0efa0d87",
   "metadata": {},
   "outputs": [
    {
     "data": {
      "text/plain": [
       "<Future pending>"
      ]
     },
     "execution_count": 7,
     "metadata": {},
     "output_type": "execute_result"
    }
   ],
   "source": [
    "# Show layer again\n",
    "my_map.set_layer_visibility(layer_id=layer.id, is_visible=True)"
   ]
  },
  {
   "cell_type": "markdown",
   "id": "b166ed6f",
   "metadata": {},
   "source": [
    "We can center the map on a new location:"
   ]
  },
  {
   "cell_type": "code",
   "execution_count": 8,
   "id": "bfacec55",
   "metadata": {},
   "outputs": [
    {
     "data": {
      "text/plain": [
       "<Future pending>"
      ]
     },
     "execution_count": 8,
     "metadata": {},
     "output_type": "execute_result"
    }
   ],
   "source": [
    "# Set view state\n",
    "view_state = models.ViewState(longitude=1, latitude=51, zoom=4)\n",
    "my_map.set_view_state(view_state)"
   ]
  },
  {
   "cell_type": "markdown",
   "id": "1ea3be0e",
   "metadata": {},
   "source": [
    "We can change the map's theme between light and dark:"
   ]
  },
  {
   "cell_type": "code",
   "execution_count": 9,
   "id": "0da353a9",
   "metadata": {},
   "outputs": [],
   "source": [
    "# Set map theme\n",
    "my_map.set_theme('light')"
   ]
  },
  {
   "cell_type": "code",
   "execution_count": 10,
   "id": "fdd4afca",
   "metadata": {},
   "outputs": [],
   "source": [
    "my_map.set_theme('dark')"
   ]
  },
  {
   "cell_type": "markdown",
   "id": "0d05c1a9",
   "metadata": {
    "tags": []
   },
   "source": [
    "## Viewing map in sidebar\n",
    "\n",
    "We can also use the [`jupyterlab-sidecar`](https://github.com/jupyter-widgets/jupyterlab-sidecar) package to display the map in JupyterLab's sidebar."
   ]
  },
  {
   "cell_type": "code",
   "execution_count": 11,
   "id": "b580751c",
   "metadata": {},
   "outputs": [],
   "source": [
    "from sidecar import Sidecar"
   ]
  },
  {
   "cell_type": "code",
   "execution_count": 12,
   "id": "10b0c986",
   "metadata": {},
   "outputs": [],
   "source": [
    "sc = Sidecar(title='Unfolded Map')"
   ]
  },
  {
   "cell_type": "code",
   "execution_count": 13,
   "id": "0a250b72",
   "metadata": {},
   "outputs": [],
   "source": [
    "with sc:\n",
    "    display(my_map)"
   ]
  },
  {
   "cell_type": "markdown",
   "id": "22b1de22",
   "metadata": {},
   "source": [
    "Now when we issue commands to the map, the map in the sidebar will be updated:"
   ]
  },
  {
   "cell_type": "code",
   "execution_count": 14,
   "id": "ec9467dd",
   "metadata": {},
   "outputs": [
    {
     "data": {
      "text/plain": [
       "<Future pending>"
      ]
     },
     "execution_count": 14,
     "metadata": {},
     "output_type": "execute_result"
    }
   ],
   "source": [
    "my_map.set_layer_visibility(layer_id=layer.id, is_visible=False)"
   ]
  },
  {
   "cell_type": "code",
   "execution_count": null,
   "id": "99117ef7",
   "metadata": {},
   "outputs": [],
   "source": []
  }
 ],
 "metadata": {
  "kernelspec": {
   "display_name": "Python 3",
   "language": "python",
   "name": "python3"
  },
  "language_info": {
   "codemirror_mode": {
    "name": "ipython",
    "version": 3
   },
   "file_extension": ".py",
   "mimetype": "text/x-python",
   "name": "python",
   "nbconvert_exporter": "python",
   "pygments_lexer": "ipython3",
   "version": "3.8.3"
  }
 },
 "nbformat": 4,
 "nbformat_minor": 5
}
